{
  "nbformat": 4,
  "nbformat_minor": 0,
  "metadata": {
    "colab": {
      "name": "TicTacToeSearch.ipynb",
      "provenance": [],
      "collapsed_sections": []
    },
    "kernelspec": {
      "name": "python3",
      "display_name": "Python 3"
    },
    "language_info": {
      "name": "python"
    }
  },
  "cells": [
    {
      "cell_type": "markdown",
      "source": [
        "#This Notebook will provide the backbone to developing a Tic Tac Toe AI\n",
        "\n",
        " Representation"
      ],
      "metadata": {
        "id": "MIdZOSsYc-ST"
      }
    },
    {
      "cell_type": "code",
      "execution_count": null,
      "metadata": {
        "colab": {
          "base_uri": "https://localhost:8080/"
        },
        "id": "0qu9Hr6Qc5n6",
        "outputId": "d4575ca4-cf7a-4b39-e99f-841f9c02ac04"
      },
      "outputs": [
        {
          "output_type": "stream",
          "name": "stdout",
          "text": [
            "['-', '-', '-', '-', '-', '-', '-', '-', '-']\n"
          ]
        }
      ],
      "source": [
        "#For the board\n",
        "# '-' is Empty\n",
        "# 'X' is X\n",
        "# 'O' is O\n",
        "\n",
        "\n",
        "board_1 = ['-', '-', '-', '-', '-', '-', '-', '-', '-']\n",
        "board_2 = ['X', '-', '-', '-', '-', '-', '-', '-', '-']\n",
        "board_3 = ['-', '-', '-', '-', '-', '-', '-', '-', 'X']\n",
        "board_4 = ['-', '-', '-', '-', 'X', '-', '-', '-', '-']\n",
        "\n",
        "#Turn 2\n",
        "board_41 = ['0', '-', '-',  '-', 'X', '-',  '-', '-', '-']\n",
        "\n",
        "\n",
        "\n",
        "\n",
        "print(board)"
      ]
    },
    {
      "cell_type": "code",
      "source": [
        "def print_board(b):\n",
        "    \"\"\"This Function will print out a board\"\"\"\n",
        "    print(b[0:3],'\\n', b[3:6],'\\n', b[6:9])\n",
        "\n",
        "\n",
        "def valid_moves(b):\n",
        "  \"\"\"Return list of empty cell indicies, i.e ones with a '-'\n",
        "  \n",
        "  Given:         0    1    2      3    4    5      6    7    8\n",
        "    board_41 = ['O', '-', '-',   '-', 'X', '-',   '-', '-', '-']\n",
        "\n",
        "  Return:\n",
        "    [1,2,3,5,6,7,8]\n",
        "\n",
        "  \"\"\"\n",
        "\n",
        "  counter = 0\n",
        "  l = []\n",
        "\n",
        "  for i in b:\n",
        "    if i == '-':\n",
        "       l.append(counter)\n",
        "    counter += 1\n",
        "  return l\n",
        "my_moves = valid_moves(board_41)\n",
        "\n",
        "print(valid_moves(board_41))\n",
        "#print_board(board_41)\n"
      ],
      "metadata": {
        "colab": {
          "base_uri": "https://localhost:8080/",
          "height": 235
        },
        "id": "ppNyjypFh9c6",
        "outputId": "5be03583-fd02-4a1a-e948-3776f33a6b96"
      },
      "execution_count": null,
      "outputs": [
        {
          "output_type": "error",
          "ename": "NameError",
          "evalue": "ignored",
          "traceback": [
            "\u001b[0;31m---------------------------------------------------------------------------\u001b[0m",
            "\u001b[0;31mNameError\u001b[0m                                 Traceback (most recent call last)",
            "\u001b[0;32m<ipython-input-26-cb1218b93a67>\u001b[0m in \u001b[0;36m<module>\u001b[0;34m()\u001b[0m\n\u001b[1;32m     23\u001b[0m     \u001b[0mcounter\u001b[0m \u001b[0;34m+=\u001b[0m \u001b[0;36m1\u001b[0m\u001b[0;34m\u001b[0m\u001b[0;34m\u001b[0m\u001b[0m\n\u001b[1;32m     24\u001b[0m   \u001b[0;32mreturn\u001b[0m \u001b[0ml\u001b[0m\u001b[0;34m\u001b[0m\u001b[0;34m\u001b[0m\u001b[0m\n\u001b[0;32m---> 25\u001b[0;31m \u001b[0mmy_moves\u001b[0m \u001b[0;34m=\u001b[0m \u001b[0mvalid_moves\u001b[0m\u001b[0;34m(\u001b[0m\u001b[0mboard_41\u001b[0m\u001b[0;34m)\u001b[0m\u001b[0;34m\u001b[0m\u001b[0;34m\u001b[0m\u001b[0m\n\u001b[0m\u001b[1;32m     26\u001b[0m \u001b[0;34m\u001b[0m\u001b[0m\n\u001b[1;32m     27\u001b[0m \u001b[0mprint\u001b[0m\u001b[0;34m(\u001b[0m\u001b[0mvalid_moves\u001b[0m\u001b[0;34m(\u001b[0m\u001b[0mboard_41\u001b[0m\u001b[0;34m)\u001b[0m\u001b[0;34m)\u001b[0m\u001b[0;34m\u001b[0m\u001b[0;34m\u001b[0m\u001b[0m\n",
            "\u001b[0;31mNameError\u001b[0m: name 'board_41' is not defined"
          ]
        }
      ]
    },
    {
      "cell_type": "code",
      "source": [
        "def print_board(b):\n",
        "    \"\"\"This Function will print out a board\"\"\"\n",
        "    print(b[0:3],'\\n', b[3:6],'\\n', b[6:9])\n",
        "\n",
        "\n",
        "def valid_moves(b):\n",
        "  \"\"\"Return list of empty cell indicies, i.e ones with a '-'\n",
        "  \n",
        "  Given:         0    1    2      3    4    5      6    7    8\n",
        "    board_41 = ['O', '-', '-',   '-', 'X', '-',   '-', '-', '-']\n",
        "\n",
        "  Return:\n",
        "    [1,2,3,5,6,7,8]\n",
        "\n",
        "  \"\"\"\n",
        "\n",
        " return [i for i, val in enumerate (b) if i val== '-']\n",
        "print(valid_moves(board_41))\n",
        "#print_board(board_41)\n"
      ],
      "metadata": {
        "colab": {
          "base_uri": "https://localhost:8080/",
          "height": 130
        },
        "id": "sS0bID7wn0Ve",
        "outputId": "469e868e-67dc-4878-9791-6020ae52201f"
      },
      "execution_count": null,
      "outputs": [
        {
          "output_type": "error",
          "ename": "SyntaxError",
          "evalue": "ignored",
          "traceback": [
            "\u001b[0;36m  File \u001b[0;32m\"<ipython-input-25-4d5ce9f74fc9>\"\u001b[0;36m, line \u001b[0;32m17\u001b[0m\n\u001b[0;31m    l = [i for i, val in enumerate (b) if i val== '-']\u001b[0m\n\u001b[0m                                              ^\u001b[0m\n\u001b[0;31mSyntaxError\u001b[0m\u001b[0;31m:\u001b[0m invalid syntax\n"
          ]
        }
      ]
    }
  ]
}